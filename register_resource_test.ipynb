{
 "cells": [
  {
   "cell_type": "code",
   "execution_count": 2,
   "metadata": {},
   "outputs": [],
   "source": [
    "import requests"
   ]
  },
  {
   "cell_type": "code",
   "execution_count": 7,
   "metadata": {},
   "outputs": [],
   "source": [
    "hs_data_services_url = 'http://geoserver-test.cuahsi.org'\n",
    "hs_data_services_auth_token = ''\n",
    "hydroshare_resource_id = '548ff127939c479bb1b1ab0fb2e205fb'\n",
    "\n",
    "\n",
    "request_url = f'{hs_data_services_url}/his/services/update/{hydroshare_resource_id}/'\n",
    "response = requests.post(\n",
    "    request_url,\n",
    "    headers={\n",
    "        'Authorization': f'Token {hs_data_services_auth_token}'\n",
    "    }\n",
    ")\n",
    "\n",
    "print(response.content)"
   ]
  },
  {
   "cell_type": "code",
   "execution_count": null,
   "metadata": {},
   "outputs": [],
   "source": []
  }
 ],
 "metadata": {
  "kernelspec": {
   "display_name": "Python 3",
   "language": "python",
   "name": "python3"
  },
  "language_info": {
   "codemirror_mode": {
    "name": "ipython",
    "version": 3
   },
   "file_extension": ".py",
   "mimetype": "text/x-python",
   "name": "python",
   "nbconvert_exporter": "python",
   "pygments_lexer": "ipython3",
   "version": "3.8.3"
  }
 },
 "nbformat": 4,
 "nbformat_minor": 4
}
